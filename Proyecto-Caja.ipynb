{
 "cells": [
  {
   "cell_type": "code",
   "execution_count": 19,
   "id": "40ecd0f5-5579-4862-a763-2cfbe06ab616",
   "metadata": {},
   "outputs": [
    {
     "ename": "AttributeError",
     "evalue": "'int' object has no attribute 'capitalize'",
     "output_type": "error",
     "traceback": [
      "\u001b[31m---------------------------------------------------------------------------\u001b[39m",
      "\u001b[31mAttributeError\u001b[39m                            Traceback (most recent call last)",
      "\u001b[36mCell\u001b[39m\u001b[36m \u001b[39m\u001b[32mIn[19]\u001b[39m\u001b[32m, line 23\u001b[39m\n\u001b[32m     20\u001b[39m     resultado = \u001b[33mf\u001b[39m\u001b[33m\"\u001b[39m\u001b[38;5;132;01m{\u001b[39;00mproducto\u001b[38;5;132;01m}\u001b[39;00m\u001b[33m: $\u001b[39m\u001b[38;5;132;01m{\u001b[39;00mproductos_data[producto]\u001b[38;5;132;01m}\u001b[39;00m\u001b[33m | \u001b[39m\u001b[38;5;132;01m{\u001b[39;00mcantidad\u001b[38;5;132;01m}\u001b[39;00m\u001b[33m unid. Total $\u001b[39m\u001b[38;5;132;01m{\u001b[39;00msubtotal\u001b[38;5;132;01m}\u001b[39;00m\u001b[33m\"\u001b[39m\n\u001b[32m     21\u001b[39m     \u001b[38;5;28;01mreturn\u001b[39;00m resultado\n\u001b[32m---> \u001b[39m\u001b[32m23\u001b[39m \u001b[43mget_price\u001b[49m\u001b[43m(\u001b[49m\u001b[32;43m2\u001b[39;49m\u001b[43m,\u001b[49m\u001b[32;43m2\u001b[39;49m\u001b[43m)\u001b[49m\n",
      "\u001b[36mCell\u001b[39m\u001b[36m \u001b[39m\u001b[32mIn[19]\u001b[39m\u001b[32m, line 5\u001b[39m, in \u001b[36mget_price\u001b[39m\u001b[34m(producto, cantidad)\u001b[39m\n\u001b[32m      3\u001b[39m     \u001b[38;5;28mprint\u001b[39m(\u001b[33m'\u001b[39m\u001b[33mEscriba el nombre de un producto\u001b[39m\u001b[33m'\u001b[39m)\n\u001b[32m      4\u001b[39m \u001b[38;5;28;01melse\u001b[39;00m:\n\u001b[32m----> \u001b[39m\u001b[32m5\u001b[39m     producto = \u001b[43mproducto\u001b[49m\u001b[43m.\u001b[49m\u001b[43mcapitalize\u001b[49m()    \n\u001b[32m      6\u001b[39m     productos_data = {\n\u001b[32m      7\u001b[39m         \u001b[33m'\u001b[39m\u001b[33mLeche\u001b[39m\u001b[33m'\u001b[39m: \u001b[32m20\u001b[39m,\n\u001b[32m      8\u001b[39m         \u001b[33m'\u001b[39m\u001b[33mWhisky\u001b[39m\u001b[33m'\u001b[39m: \u001b[32m40\u001b[39m,\n\u001b[32m   (...)\u001b[39m\u001b[32m     17\u001b[39m         \u001b[33m'\u001b[39m\u001b[33mHeladera\u001b[39m\u001b[33m'\u001b[39m: \u001b[32m500\u001b[39m\n\u001b[32m     18\u001b[39m     }\n\u001b[32m     19\u001b[39m subtotal = productos_data[producto]* cantidad\n",
      "\u001b[31mAttributeError\u001b[39m: 'int' object has no attribute 'capitalize'"
     ]
    }
   ],
   "source": [
    "\n",
    "def get_price(producto: str,cantidad):\n",
    "    if(not producto):\n",
    "        print('Escriba el nombre de un producto')\n",
    "    else:\n",
    "        producto = producto.capitalize()    \n",
    "        productos_data = {\n",
    "            'Leche': 20,\n",
    "            'Whisky': 40,\n",
    "            'Yerba': 20,\n",
    "            'Huevos': 1,\n",
    "            'Laser': 25,\n",
    "            'Sillon': 120,\n",
    "            'Bicicleta': 200,\n",
    "            'Guitarra': 750,\n",
    "            'Espia': 2000,\n",
    "            'Cocina': 600,\n",
    "            'Heladera': 500\n",
    "        }\n",
    "    subtotal = productos_data[producto]* cantidad\n",
    "    resultado = f\"{producto}: ${productos_data[producto]} | {cantidad} unid. Total ${subtotal}\"\n",
    "    return resultado\n",
    "\n",
    "get_price(2,2)"
   ]
  },
  {
   "cell_type": "code",
   "execution_count": null,
   "id": "6b207881-7cae-4d54-ad3c-de8e7675dcbe",
   "metadata": {},
   "outputs": [],
   "source": []
  },
  {
   "cell_type": "code",
   "execution_count": null,
   "id": "2ee81782-dd5e-4dd0-b32a-499e015ba951",
   "metadata": {},
   "outputs": [],
   "source": []
  }
 ],
 "metadata": {
  "kernelspec": {
   "display_name": "Python 3 (ipykernel)",
   "language": "python",
   "name": "python3"
  },
  "language_info": {
   "codemirror_mode": {
    "name": "ipython",
    "version": 3
   },
   "file_extension": ".py",
   "mimetype": "text/x-python",
   "name": "python",
   "nbconvert_exporter": "python",
   "pygments_lexer": "ipython3",
   "version": "3.11.9"
  }
 },
 "nbformat": 4,
 "nbformat_minor": 5
}
