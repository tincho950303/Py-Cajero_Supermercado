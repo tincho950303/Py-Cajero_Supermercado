{
 "cells": [
  {
   "cell_type": "markdown",
   "id": "2587ccaa",
   "metadata": {},
   "source": [
    "## Función para ingresar los productos "
   ]
  },
  {
   "cell_type": "code",
   "execution_count": 29,
   "id": "a02742db",
   "metadata": {},
   "outputs": [],
   "source": [
    "buying_data={}"
   ]
  },
  {
   "cell_type": "code",
   "execution_count": 30,
   "id": "f3d9a242",
   "metadata": {},
   "outputs": [
    {
     "data": {
      "text/plain": [
       "{'te': 2}"
      ]
     },
     "execution_count": 30,
     "metadata": {},
     "output_type": "execute_result"
    }
   ],
   "source": [
    "\n",
    "def enter_products():    \n",
    "    ingresar_productos = True    \n",
    "    while ingresar_productos:\n",
    "        iniciar = input(\"Presione 'A' para agregar un producto o 'Q' para salir.\").upper()\n",
    "        if iniciar == \"A\":\n",
    "            cantidad = int(input(\"Ingrese cantidad: \"))\n",
    "            producto = str(input(\"Ingrese producto: \"))\n",
    "            \n",
    "            buying_data.update({producto:cantidad})  # Actualizar la base de datos\n",
    "            return buying_data\n",
    "        \n",
    "        elif iniciar ==  \"Q\":\n",
    "            print(\"Gracias por usar el programa.\")           \n",
    "            ingresar_productos = False\n",
    "            \n",
    "        else:\n",
    "            print(\"Por favor seleccione la opción correcta.\")\n",
    "            iniciar = input(\"Presione 'A' para agregar un producto o 'Q' para salir.\").upper()\n",
    "            \n",
    "    \n",
    "\n",
    "enter_products()\n"
   ]
  },
  {
   "cell_type": "markdown",
   "id": "554f413c",
   "metadata": {},
   "source": [
    "## Función para calcular el precio de un producto según su cantidad."
   ]
  },
  {
   "cell_type": "code",
   "execution_count": null,
   "id": "40ecd0f5-5579-4862-a763-2cfbe06ab616",
   "metadata": {},
   "outputs": [],
   "source": [
    "def get_price(cantidad,producto):\n",
    "    producto = producto.capitalize()    \n",
    "    productos_data =  {\n",
    "        'Leche': 20,\n",
    "        'Whisky': 40,\n",
    "        'Yerba': 20,\n",
    "        'Huevos': 1,\n",
    "        'Laser': 25,\n",
    "        'Sillon': 120,\n",
    "        'Bicicleta': 200,\n",
    "        'Guitarra': 750,\n",
    "        'Aspiradora': 2000,\n",
    "        'Cocina': 600,\n",
    "        'Heladera': 500\n",
    "    }\n",
    "    \n",
    "    db_productos = productos_data[producto]\n",
    "    db_precio = productos_data[cantidad]\n",
    "    \n",
    "    subtotal = db_productos * db_precio\n",
    "    resultado = f\"{producto} || Precio: ${productos_data[producto]} | Unidades: {cantidad} | Total: ${subtotal}\"\n",
    "    \n",
    "    return resultado\n",
    "\n",
    "\n",
    "\n"
   ]
  },
  {
   "cell_type": "code",
   "execution_count": null,
   "id": "d9c1fc22",
   "metadata": {},
   "outputs": [],
   "source": []
  }
 ],
 "metadata": {
  "kernelspec": {
   "display_name": "Python 3",
   "language": "python",
   "name": "python3"
  },
  "language_info": {
   "codemirror_mode": {
    "name": "ipython",
    "version": 3
   },
   "file_extension": ".py",
   "mimetype": "text/x-python",
   "name": "python",
   "nbconvert_exporter": "python",
   "pygments_lexer": "ipython3",
   "version": "3.11.9"
  }
 },
 "nbformat": 4,
 "nbformat_minor": 5
}
